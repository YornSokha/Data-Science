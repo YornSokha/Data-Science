{
 "cells": [
  {
   "cell_type": "markdown",
   "metadata": {},
   "source": [
    "# Series and DataFrames"
   ]
  },
  {
   "cell_type": "code",
   "execution_count": 1,
   "metadata": {
    "collapsed": true
   },
   "outputs": [],
   "source": [
    "import pandas as pd"
   ]
  },
  {
   "cell_type": "code",
   "execution_count": 2,
   "metadata": {},
   "outputs": [
    {
     "data": {
      "text/plain": "     City  Edition     Sport Discipline             Athlete  NOC Gender  \\\n0  Athens     1896  Aquatics   Swimming       HAJOS, Alfred  HUN    Men   \n1  Athens     1896  Aquatics   Swimming    HERSCHMANN, Otto  AUT    Men   \n2  Athens     1896  Aquatics   Swimming   DRIVAS, Dimitrios  GRE    Men   \n3  Athens     1896  Aquatics   Swimming  MALOKINIS, Ioannis  GRE    Men   \n4  Athens     1896  Aquatics   Swimming  CHASAPIS, Spiridon  GRE    Men   \n\n                        Event Event_gender   Medal  \n0              100m freestyle            M    Gold  \n1              100m freestyle            M  Silver  \n2  100m freestyle for sailors            M  Bronze  \n3  100m freestyle for sailors            M    Gold  \n4  100m freestyle for sailors            M  Silver  ",
      "text/html": "<div>\n<style scoped>\n    .dataframe tbody tr th:only-of-type {\n        vertical-align: middle;\n    }\n\n    .dataframe tbody tr th {\n        vertical-align: top;\n    }\n\n    .dataframe thead th {\n        text-align: right;\n    }\n</style>\n<table border=\"1\" class=\"dataframe\">\n  <thead>\n    <tr style=\"text-align: right;\">\n      <th></th>\n      <th>City</th>\n      <th>Edition</th>\n      <th>Sport</th>\n      <th>Discipline</th>\n      <th>Athlete</th>\n      <th>NOC</th>\n      <th>Gender</th>\n      <th>Event</th>\n      <th>Event_gender</th>\n      <th>Medal</th>\n    </tr>\n  </thead>\n  <tbody>\n    <tr>\n      <th>0</th>\n      <td>Athens</td>\n      <td>1896</td>\n      <td>Aquatics</td>\n      <td>Swimming</td>\n      <td>HAJOS, Alfred</td>\n      <td>HUN</td>\n      <td>Men</td>\n      <td>100m freestyle</td>\n      <td>M</td>\n      <td>Gold</td>\n    </tr>\n    <tr>\n      <th>1</th>\n      <td>Athens</td>\n      <td>1896</td>\n      <td>Aquatics</td>\n      <td>Swimming</td>\n      <td>HERSCHMANN, Otto</td>\n      <td>AUT</td>\n      <td>Men</td>\n      <td>100m freestyle</td>\n      <td>M</td>\n      <td>Silver</td>\n    </tr>\n    <tr>\n      <th>2</th>\n      <td>Athens</td>\n      <td>1896</td>\n      <td>Aquatics</td>\n      <td>Swimming</td>\n      <td>DRIVAS, Dimitrios</td>\n      <td>GRE</td>\n      <td>Men</td>\n      <td>100m freestyle for sailors</td>\n      <td>M</td>\n      <td>Bronze</td>\n    </tr>\n    <tr>\n      <th>3</th>\n      <td>Athens</td>\n      <td>1896</td>\n      <td>Aquatics</td>\n      <td>Swimming</td>\n      <td>MALOKINIS, Ioannis</td>\n      <td>GRE</td>\n      <td>Men</td>\n      <td>100m freestyle for sailors</td>\n      <td>M</td>\n      <td>Gold</td>\n    </tr>\n    <tr>\n      <th>4</th>\n      <td>Athens</td>\n      <td>1896</td>\n      <td>Aquatics</td>\n      <td>Swimming</td>\n      <td>CHASAPIS, Spiridon</td>\n      <td>GRE</td>\n      <td>Men</td>\n      <td>100m freestyle for sailors</td>\n      <td>M</td>\n      <td>Silver</td>\n    </tr>\n  </tbody>\n</table>\n</div>"
     },
     "execution_count": 2,
     "metadata": {},
     "output_type": "execute_result"
    }
   ],
   "source": [
    "oo = pd.read_csv('../data/olympics.csv',skiprows=4)\n",
    "oo.head()"
   ]
  },
  {
   "cell_type": "code",
   "execution_count": 2,
   "metadata": {
    "collapsed": true
   },
   "outputs": [],
   "source": []
  },
  {
   "cell_type": "markdown",
   "metadata": {},
   "source": [
    "### List our Olympics DataFrame."
   ]
  },
  {
   "cell_type": "code",
   "execution_count": 3,
   "metadata": {},
   "outputs": [
    {
     "data": {
      "text/plain": "          City  Edition      Sport       Discipline               Athlete  \\\n0       Athens     1896   Aquatics         Swimming         HAJOS, Alfred   \n1       Athens     1896   Aquatics         Swimming      HERSCHMANN, Otto   \n2       Athens     1896   Aquatics         Swimming     DRIVAS, Dimitrios   \n3       Athens     1896   Aquatics         Swimming    MALOKINIS, Ioannis   \n4       Athens     1896   Aquatics         Swimming    CHASAPIS, Spiridon   \n...        ...      ...        ...              ...                   ...   \n29211  Beijing     2008  Wrestling  Wrestling Gre-R        ENGLICH, Mirko   \n29212  Beijing     2008  Wrestling  Wrestling Gre-R  MIZGAITIS, Mindaugas   \n29213  Beijing     2008  Wrestling  Wrestling Gre-R       PATRIKEEV, Yuri   \n29214  Beijing     2008  Wrestling  Wrestling Gre-R         LOPEZ, Mijain   \n29215  Beijing     2008  Wrestling  Wrestling Gre-R        BAROEV, Khasan   \n\n       NOC Gender                       Event Event_gender   Medal  \n0      HUN    Men              100m freestyle            M    Gold  \n1      AUT    Men              100m freestyle            M  Silver  \n2      GRE    Men  100m freestyle for sailors            M  Bronze  \n3      GRE    Men  100m freestyle for sailors            M    Gold  \n4      GRE    Men  100m freestyle for sailors            M  Silver  \n...    ...    ...                         ...          ...     ...  \n29211  GER    Men                   84 - 96kg            M  Silver  \n29212  LTU    Men                  96 - 120kg            M  Bronze  \n29213  ARM    Men                  96 - 120kg            M  Bronze  \n29214  CUB    Men                  96 - 120kg            M    Gold  \n29215  RUS    Men                  96 - 120kg            M  Silver  \n\n[29216 rows x 10 columns]",
      "text/html": "<div>\n<style scoped>\n    .dataframe tbody tr th:only-of-type {\n        vertical-align: middle;\n    }\n\n    .dataframe tbody tr th {\n        vertical-align: top;\n    }\n\n    .dataframe thead th {\n        text-align: right;\n    }\n</style>\n<table border=\"1\" class=\"dataframe\">\n  <thead>\n    <tr style=\"text-align: right;\">\n      <th></th>\n      <th>City</th>\n      <th>Edition</th>\n      <th>Sport</th>\n      <th>Discipline</th>\n      <th>Athlete</th>\n      <th>NOC</th>\n      <th>Gender</th>\n      <th>Event</th>\n      <th>Event_gender</th>\n      <th>Medal</th>\n    </tr>\n  </thead>\n  <tbody>\n    <tr>\n      <th>0</th>\n      <td>Athens</td>\n      <td>1896</td>\n      <td>Aquatics</td>\n      <td>Swimming</td>\n      <td>HAJOS, Alfred</td>\n      <td>HUN</td>\n      <td>Men</td>\n      <td>100m freestyle</td>\n      <td>M</td>\n      <td>Gold</td>\n    </tr>\n    <tr>\n      <th>1</th>\n      <td>Athens</td>\n      <td>1896</td>\n      <td>Aquatics</td>\n      <td>Swimming</td>\n      <td>HERSCHMANN, Otto</td>\n      <td>AUT</td>\n      <td>Men</td>\n      <td>100m freestyle</td>\n      <td>M</td>\n      <td>Silver</td>\n    </tr>\n    <tr>\n      <th>2</th>\n      <td>Athens</td>\n      <td>1896</td>\n      <td>Aquatics</td>\n      <td>Swimming</td>\n      <td>DRIVAS, Dimitrios</td>\n      <td>GRE</td>\n      <td>Men</td>\n      <td>100m freestyle for sailors</td>\n      <td>M</td>\n      <td>Bronze</td>\n    </tr>\n    <tr>\n      <th>3</th>\n      <td>Athens</td>\n      <td>1896</td>\n      <td>Aquatics</td>\n      <td>Swimming</td>\n      <td>MALOKINIS, Ioannis</td>\n      <td>GRE</td>\n      <td>Men</td>\n      <td>100m freestyle for sailors</td>\n      <td>M</td>\n      <td>Gold</td>\n    </tr>\n    <tr>\n      <th>4</th>\n      <td>Athens</td>\n      <td>1896</td>\n      <td>Aquatics</td>\n      <td>Swimming</td>\n      <td>CHASAPIS, Spiridon</td>\n      <td>GRE</td>\n      <td>Men</td>\n      <td>100m freestyle for sailors</td>\n      <td>M</td>\n      <td>Silver</td>\n    </tr>\n    <tr>\n      <th>...</th>\n      <td>...</td>\n      <td>...</td>\n      <td>...</td>\n      <td>...</td>\n      <td>...</td>\n      <td>...</td>\n      <td>...</td>\n      <td>...</td>\n      <td>...</td>\n      <td>...</td>\n    </tr>\n    <tr>\n      <th>29211</th>\n      <td>Beijing</td>\n      <td>2008</td>\n      <td>Wrestling</td>\n      <td>Wrestling Gre-R</td>\n      <td>ENGLICH, Mirko</td>\n      <td>GER</td>\n      <td>Men</td>\n      <td>84 - 96kg</td>\n      <td>M</td>\n      <td>Silver</td>\n    </tr>\n    <tr>\n      <th>29212</th>\n      <td>Beijing</td>\n      <td>2008</td>\n      <td>Wrestling</td>\n      <td>Wrestling Gre-R</td>\n      <td>MIZGAITIS, Mindaugas</td>\n      <td>LTU</td>\n      <td>Men</td>\n      <td>96 - 120kg</td>\n      <td>M</td>\n      <td>Bronze</td>\n    </tr>\n    <tr>\n      <th>29213</th>\n      <td>Beijing</td>\n      <td>2008</td>\n      <td>Wrestling</td>\n      <td>Wrestling Gre-R</td>\n      <td>PATRIKEEV, Yuri</td>\n      <td>ARM</td>\n      <td>Men</td>\n      <td>96 - 120kg</td>\n      <td>M</td>\n      <td>Bronze</td>\n    </tr>\n    <tr>\n      <th>29214</th>\n      <td>Beijing</td>\n      <td>2008</td>\n      <td>Wrestling</td>\n      <td>Wrestling Gre-R</td>\n      <td>LOPEZ, Mijain</td>\n      <td>CUB</td>\n      <td>Men</td>\n      <td>96 - 120kg</td>\n      <td>M</td>\n      <td>Gold</td>\n    </tr>\n    <tr>\n      <th>29215</th>\n      <td>Beijing</td>\n      <td>2008</td>\n      <td>Wrestling</td>\n      <td>Wrestling Gre-R</td>\n      <td>BAROEV, Khasan</td>\n      <td>RUS</td>\n      <td>Men</td>\n      <td>96 - 120kg</td>\n      <td>M</td>\n      <td>Silver</td>\n    </tr>\n  </tbody>\n</table>\n<p>29216 rows × 10 columns</p>\n</div>"
     },
     "execution_count": 3,
     "metadata": {},
     "output_type": "execute_result"
    }
   ],
   "source": [
    "oo"
   ]
  },
  {
   "cell_type": "code",
   "execution_count": 3,
   "metadata": {
    "collapsed": true
   },
   "outputs": [],
   "source": []
  },
  {
   "cell_type": "markdown",
   "metadata": {},
   "source": [
    "### List only the NOC column using both the ['..'] and dot notation. What type is this object?"
   ]
  },
  {
   "cell_type": "code",
   "execution_count": 4,
   "metadata": {},
   "outputs": [
    {
     "data": {
      "text/plain": "0        HUN\n1        AUT\n2        GRE\n3        GRE\n4        GRE\n        ... \n29211    GER\n29212    LTU\n29213    ARM\n29214    CUB\n29215    RUS\nName: NOC, Length: 29216, dtype: object"
     },
     "execution_count": 4,
     "metadata": {},
     "output_type": "execute_result"
    }
   ],
   "source": [
    "oo['NOC']"
   ]
  },
  {
   "cell_type": "code",
   "execution_count": 5,
   "metadata": {},
   "outputs": [
    {
     "data": {
      "text/plain": "0        HUN\n1        AUT\n2        GRE\n3        GRE\n4        GRE\n        ... \n29211    GER\n29212    LTU\n29213    ARM\n29214    CUB\n29215    RUS\nName: NOC, Length: 29216, dtype: object"
     },
     "execution_count": 5,
     "metadata": {},
     "output_type": "execute_result"
    }
   ],
   "source": [
    "oo.NOC"
   ]
  },
  {
   "cell_type": "code",
   "execution_count": 6,
   "metadata": {},
   "outputs": [
    {
     "data": {
      "text/plain": "pandas.core.series.Series"
     },
     "execution_count": 6,
     "metadata": {},
     "output_type": "execute_result"
    }
   ],
   "source": [
    "type(oo.NOC)"
   ]
  },
  {
   "cell_type": "markdown",
   "metadata": {},
   "source": [
    "### List the Edition, City, Athlete Name and Medal columns. What type is this object?"
   ]
  },
  {
   "cell_type": "code",
   "execution_count": 7,
   "metadata": {},
   "outputs": [
    {
     "data": {
      "text/plain": "pandas.core.frame.DataFrame"
     },
     "execution_count": 7,
     "metadata": {},
     "output_type": "execute_result"
    }
   ],
   "source": [
    "type(oo[['Edition','City','Athlete','Medal']])"
   ]
  },
  {
   "cell_type": "code",
   "execution_count": 7,
   "metadata": {
    "collapsed": true
   },
   "outputs": [],
   "source": []
  },
  {
   "cell_type": "code",
   "execution_count": 7,
   "metadata": {
    "collapsed": true
   },
   "outputs": [],
   "source": []
  }
 ],
 "metadata": {
  "kernelspec": {
   "display_name": "Python 3",
   "language": "python",
   "name": "python3"
  },
  "language_info": {
   "codemirror_mode": {
    "name": "ipython",
    "version": 3
   },
   "file_extension": ".py",
   "mimetype": "text/x-python",
   "name": "python",
   "nbconvert_exporter": "python",
   "pygments_lexer": "ipython3",
   "version": "3.6.1"
  }
 },
 "nbformat": 4,
 "nbformat_minor": 1
}
