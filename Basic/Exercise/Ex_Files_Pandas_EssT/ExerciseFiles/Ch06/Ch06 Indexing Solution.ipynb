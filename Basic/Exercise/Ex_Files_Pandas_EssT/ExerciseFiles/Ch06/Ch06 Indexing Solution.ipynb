{
 "cells": [
  {
   "cell_type": "markdown",
   "metadata": {},
   "source": [
    "# Solution"
   ]
  },
  {
   "cell_type": "code",
   "execution_count": 1,
   "metadata": {
    "collapsed": true
   },
   "outputs": [],
   "source": [
    "import pandas as pd\n",
    "import matplotlib.pyplot as plt\n",
    "%matplotlib inline"
   ]
  },
  {
   "cell_type": "code",
   "execution_count": 2,
   "metadata": {},
   "outputs": [
    {
     "data": {
      "text/plain": "     City  Edition     Sport Discipline             Athlete  NOC Gender  \\\n0  Athens     1896  Aquatics   Swimming       HAJOS, Alfred  HUN    Men   \n1  Athens     1896  Aquatics   Swimming    HERSCHMANN, Otto  AUT    Men   \n2  Athens     1896  Aquatics   Swimming   DRIVAS, Dimitrios  GRE    Men   \n3  Athens     1896  Aquatics   Swimming  MALOKINIS, Ioannis  GRE    Men   \n4  Athens     1896  Aquatics   Swimming  CHASAPIS, Spiridon  GRE    Men   \n\n                        Event Event_gender   Medal  \n0              100m freestyle            M    Gold  \n1              100m freestyle            M  Silver  \n2  100m freestyle for sailors            M  Bronze  \n3  100m freestyle for sailors            M    Gold  \n4  100m freestyle for sailors            M  Silver  ",
      "text/html": "<div>\n<style scoped>\n    .dataframe tbody tr th:only-of-type {\n        vertical-align: middle;\n    }\n\n    .dataframe tbody tr th {\n        vertical-align: top;\n    }\n\n    .dataframe thead th {\n        text-align: right;\n    }\n</style>\n<table border=\"1\" class=\"dataframe\">\n  <thead>\n    <tr style=\"text-align: right;\">\n      <th></th>\n      <th>City</th>\n      <th>Edition</th>\n      <th>Sport</th>\n      <th>Discipline</th>\n      <th>Athlete</th>\n      <th>NOC</th>\n      <th>Gender</th>\n      <th>Event</th>\n      <th>Event_gender</th>\n      <th>Medal</th>\n    </tr>\n  </thead>\n  <tbody>\n    <tr>\n      <th>0</th>\n      <td>Athens</td>\n      <td>1896</td>\n      <td>Aquatics</td>\n      <td>Swimming</td>\n      <td>HAJOS, Alfred</td>\n      <td>HUN</td>\n      <td>Men</td>\n      <td>100m freestyle</td>\n      <td>M</td>\n      <td>Gold</td>\n    </tr>\n    <tr>\n      <th>1</th>\n      <td>Athens</td>\n      <td>1896</td>\n      <td>Aquatics</td>\n      <td>Swimming</td>\n      <td>HERSCHMANN, Otto</td>\n      <td>AUT</td>\n      <td>Men</td>\n      <td>100m freestyle</td>\n      <td>M</td>\n      <td>Silver</td>\n    </tr>\n    <tr>\n      <th>2</th>\n      <td>Athens</td>\n      <td>1896</td>\n      <td>Aquatics</td>\n      <td>Swimming</td>\n      <td>DRIVAS, Dimitrios</td>\n      <td>GRE</td>\n      <td>Men</td>\n      <td>100m freestyle for sailors</td>\n      <td>M</td>\n      <td>Bronze</td>\n    </tr>\n    <tr>\n      <th>3</th>\n      <td>Athens</td>\n      <td>1896</td>\n      <td>Aquatics</td>\n      <td>Swimming</td>\n      <td>MALOKINIS, Ioannis</td>\n      <td>GRE</td>\n      <td>Men</td>\n      <td>100m freestyle for sailors</td>\n      <td>M</td>\n      <td>Gold</td>\n    </tr>\n    <tr>\n      <th>4</th>\n      <td>Athens</td>\n      <td>1896</td>\n      <td>Aquatics</td>\n      <td>Swimming</td>\n      <td>CHASAPIS, Spiridon</td>\n      <td>GRE</td>\n      <td>Men</td>\n      <td>100m freestyle for sailors</td>\n      <td>M</td>\n      <td>Silver</td>\n    </tr>\n  </tbody>\n</table>\n</div>"
     },
     "execution_count": 2,
     "metadata": {},
     "output_type": "execute_result"
    }
   ],
   "source": [
    "oo = pd.read_csv('../data/olympics.csv',skiprows=4)\n",
    "oo.head()"
   ]
  },
  {
   "cell_type": "code",
   "execution_count": 2,
   "metadata": {
    "collapsed": true
   },
   "outputs": [],
   "source": []
  },
  {
   "cell_type": "markdown",
   "metadata": {
    "collapsed": true
   },
   "source": [
    "### Plot the total number of medals awarded at each of the Olympic games throughout history."
   ]
  },
  {
   "cell_type": "code",
   "execution_count": 3,
   "metadata": {},
   "outputs": [
    {
     "data": {
      "text/plain": "<AxesSubplot:>"
     },
     "execution_count": 3,
     "metadata": {},
     "output_type": "execute_result"
    },
    {
     "data": {
      "text/plain": "<Figure size 640x480 with 1 Axes>",
      "image/png": "[encoded data removed]"
     },
     "metadata": {},
     "output_type": "display_data"
    }
   ],
   "source": [
    "oo.Edition.value_counts().sort_index().plot()"
   ]
  },
  {
   "cell_type": "code",
   "execution_count": 3,
   "metadata": {
    "collapsed": true
   },
   "outputs": [],
   "source": []
  },
  {
   "cell_type": "markdown",
   "metadata": {
    "collapsed": true
   },
   "source": [
    "### Which countries did not win a medal in the 2008 Olympics? How many countries were there?"
   ]
  },
  {
   "cell_type": "code",
   "execution_count": 4,
   "metadata": {},
   "outputs": [
    {
     "data": {
      "text/plain": "          City  Edition      Sport       Discipline               Athlete  \\\n27174  Beijing     2008   Aquatics           Diving        GALPERIN, Gleb   \n27175  Beijing     2008   Aquatics           Diving      MITCHAM, Matthew   \n27176  Beijing     2008   Aquatics           Diving           ZHOU, Luxin   \n27177  Beijing     2008   Aquatics           Diving             WANG, Xin   \n27178  Beijing     2008   Aquatics           Diving          CHEN, Ruolin   \n...        ...      ...        ...              ...                   ...   \n29211  Beijing     2008  Wrestling  Wrestling Gre-R        ENGLICH, Mirko   \n29212  Beijing     2008  Wrestling  Wrestling Gre-R  MIZGAITIS, Mindaugas   \n29213  Beijing     2008  Wrestling  Wrestling Gre-R       PATRIKEEV, Yuri   \n29214  Beijing     2008  Wrestling  Wrestling Gre-R         LOPEZ, Mijain   \n29215  Beijing     2008  Wrestling  Wrestling Gre-R        BAROEV, Khasan   \n\n       NOC Gender         Event Event_gender   Medal  \n27174  RUS    Men  10m platform            M  Bronze  \n27175  AUS    Men  10m platform            M    Gold  \n27176  CHN    Men  10m platform            M  Silver  \n27177  CHN  Women  10m platform            W  Bronze  \n27178  CHN  Women  10m platform            W    Gold  \n...    ...    ...           ...          ...     ...  \n29211  GER    Men     84 - 96kg            M  Silver  \n29212  LTU    Men    96 - 120kg            M  Bronze  \n29213  ARM    Men    96 - 120kg            M  Bronze  \n29214  CUB    Men    96 - 120kg            M    Gold  \n29215  RUS    Men    96 - 120kg            M  Silver  \n\n[2042 rows x 10 columns]",
      "text/html": "<div>\n<style scoped>\n    .dataframe tbody tr th:only-of-type {\n        vertical-align: middle;\n    }\n\n    .dataframe tbody tr th {\n        vertical-align: top;\n    }\n\n    .dataframe thead th {\n        text-align: right;\n    }\n</style>\n<table border=\"1\" class=\"dataframe\">\n  <thead>\n    <tr style=\"text-align: right;\">\n      <th></th>\n      <th>City</th>\n      <th>Edition</th>\n      <th>Sport</th>\n      <th>Discipline</th>\n      <th>Athlete</th>\n      <th>NOC</th>\n      <th>Gender</th>\n      <th>Event</th>\n      <th>Event_gender</th>\n      <th>Medal</th>\n    </tr>\n  </thead>\n  <tbody>\n    <tr>\n      <th>27174</th>\n      <td>Beijing</td>\n      <td>2008</td>\n      <td>Aquatics</td>\n      <td>Diving</td>\n      <td>GALPERIN, Gleb</td>\n      <td>RUS</td>\n      <td>Men</td>\n      <td>10m platform</td>\n      <td>M</td>\n      <td>Bronze</td>\n    </tr>\n    <tr>\n      <th>27175</th>\n      <td>Beijing</td>\n      <td>2008</td>\n      <td>Aquatics</td>\n      <td>Diving</td>\n      <td>MITCHAM, Matthew</td>\n      <td>AUS</td>\n      <td>Men</td>\n      <td>10m platform</td>\n      <td>M</td>\n      <td>Gold</td>\n    </tr>\n    <tr>\n      <th>27176</th>\n      <td>Beijing</td>\n      <td>2008</td>\n      <td>Aquatics</td>\n      <td>Diving</td>\n      <td>ZHOU, Luxin</td>\n      <td>CHN</td>\n      <td>Men</td>\n      <td>10m platform</td>\n      <td>M</td>\n      <td>Silver</td>\n    </tr>\n    <tr>\n      <th>27177</th>\n      <td>Beijing</td>\n      <td>2008</td>\n      <td>Aquatics</td>\n      <td>Diving</td>\n      <td>WANG, Xin</td>\n      <td>CHN</td>\n      <td>Women</td>\n      <td>10m platform</td>\n      <td>W</td>\n      <td>Bronze</td>\n    </tr>\n    <tr>\n      <th>27178</th>\n      <td>Beijing</td>\n      <td>2008</td>\n      <td>Aquatics</td>\n      <td>Diving</td>\n      <td>CHEN, Ruolin</td>\n      <td>CHN</td>\n      <td>Women</td>\n      <td>10m platform</td>\n      <td>W</td>\n      <td>Gold</td>\n    </tr>\n    <tr>\n      <th>...</th>\n      <td>...</td>\n      <td>...</td>\n      <td>...</td>\n      <td>...</td>\n      <td>...</td>\n      <td>...</td>\n      <td>...</td>\n      <td>...</td>\n      <td>...</td>\n      <td>...</td>\n    </tr>\n    <tr>\n      <th>29211</th>\n      <td>Beijing</td>\n      <td>2008</td>\n      <td>Wrestling</td>\n      <td>Wrestling Gre-R</td>\n      <td>ENGLICH, Mirko</td>\n      <td>GER</td>\n      <td>Men</td>\n      <td>84 - 96kg</td>\n      <td>M</td>\n      <td>Silver</td>\n    </tr>\n    <tr>\n      <th>29212</th>\n      <td>Beijing</td>\n      <td>2008</td>\n      <td>Wrestling</td>\n      <td>Wrestling Gre-R</td>\n      <td>MIZGAITIS, Mindaugas</td>\n      <td>LTU</td>\n      <td>Men</td>\n      <td>96 - 120kg</td>\n      <td>M</td>\n      <td>Bronze</td>\n    </tr>\n    <tr>\n      <th>29213</th>\n      <td>Beijing</td>\n      <td>2008</td>\n      <td>Wrestling</td>\n      <td>Wrestling Gre-R</td>\n      <td>PATRIKEEV, Yuri</td>\n      <td>ARM</td>\n      <td>Men</td>\n      <td>96 - 120kg</td>\n      <td>M</td>\n      <td>Bronze</td>\n    </tr>\n    <tr>\n      <th>29214</th>\n      <td>Beijing</td>\n      <td>2008</td>\n      <td>Wrestling</td>\n      <td>Wrestling Gre-R</td>\n      <td>LOPEZ, Mijain</td>\n      <td>CUB</td>\n      <td>Men</td>\n      <td>96 - 120kg</td>\n      <td>M</td>\n      <td>Gold</td>\n    </tr>\n    <tr>\n      <th>29215</th>\n      <td>Beijing</td>\n      <td>2008</td>\n      <td>Wrestling</td>\n      <td>Wrestling Gre-R</td>\n      <td>BAROEV, Khasan</td>\n      <td>RUS</td>\n      <td>Men</td>\n      <td>96 - 120kg</td>\n      <td>M</td>\n      <td>Silver</td>\n    </tr>\n  </tbody>\n</table>\n<p>2042 rows × 10 columns</p>\n</div>"
     },
     "execution_count": 4,
     "metadata": {},
     "output_type": "execute_result"
    }
   ],
   "source": [
    "lo = oo[oo.Edition == 2008]\n",
    "lo"
   ]
  },
  {
   "cell_type": "code",
   "execution_count": 5,
   "metadata": {},
   "outputs": [
    {
     "data": {
      "text/plain": "           Country Int Olympic Committee code ISO code        Country.1\n0      Afghanistan                        AFG       AF      Afghanistan\n1          Albania                        ALB       AL          Albania\n2          Algeria                        ALG       DZ          Algeria\n3  American Samoa*                        ASA       AS  American Samoa*\n4          Andorra                        AND       AD          Andorra",
      "text/html": "<div>\n<style scoped>\n    .dataframe tbody tr th:only-of-type {\n        vertical-align: middle;\n    }\n\n    .dataframe tbody tr th {\n        vertical-align: top;\n    }\n\n    .dataframe thead th {\n        text-align: right;\n    }\n</style>\n<table border=\"1\" class=\"dataframe\">\n  <thead>\n    <tr style=\"text-align: right;\">\n      <th></th>\n      <th>Country</th>\n      <th>Int Olympic Committee code</th>\n      <th>ISO code</th>\n      <th>Country.1</th>\n    </tr>\n  </thead>\n  <tbody>\n    <tr>\n      <th>0</th>\n      <td>Afghanistan</td>\n      <td>AFG</td>\n      <td>AF</td>\n      <td>Afghanistan</td>\n    </tr>\n    <tr>\n      <th>1</th>\n      <td>Albania</td>\n      <td>ALB</td>\n      <td>AL</td>\n      <td>Albania</td>\n    </tr>\n    <tr>\n      <th>2</th>\n      <td>Algeria</td>\n      <td>ALG</td>\n      <td>DZ</td>\n      <td>Algeria</td>\n    </tr>\n    <tr>\n      <th>3</th>\n      <td>American Samoa*</td>\n      <td>ASA</td>\n      <td>AS</td>\n      <td>American Samoa*</td>\n    </tr>\n    <tr>\n      <th>4</th>\n      <td>Andorra</td>\n      <td>AND</td>\n      <td>AD</td>\n      <td>Andorra</td>\n    </tr>\n  </tbody>\n</table>\n</div>"
     },
     "execution_count": 5,
     "metadata": {},
     "output_type": "execute_result"
    }
   ],
   "source": [
    "noc = pd.read_csv('../data/Summer Olympic medallists 1896 to 2008 - IOC COUNTRY CODES.csv')\n",
    "noc.head()"
   ]
  },
  {
   "cell_type": "code",
   "execution_count": 6,
   "metadata": {},
   "outputs": [
    {
     "data": {
      "text/plain": "Empty DataFrame\nColumns: [Country, Int Olympic Committee code, ISO code, Country.1]\nIndex: []",
      "text/html": "<div>\n<style scoped>\n    .dataframe tbody tr th:only-of-type {\n        vertical-align: middle;\n    }\n\n    .dataframe tbody tr th {\n        vertical-align: top;\n    }\n\n    .dataframe thead th {\n        text-align: right;\n    }\n</style>\n<table border=\"1\" class=\"dataframe\">\n  <thead>\n    <tr style=\"text-align: right;\">\n      <th></th>\n      <th>Country</th>\n      <th>Int Olympic Committee code</th>\n      <th>ISO code</th>\n      <th>Country.1</th>\n    </tr>\n  </thead>\n  <tbody>\n  </tbody>\n</table>\n</div>"
     },
     "execution_count": 6,
     "metadata": {},
     "output_type": "execute_result"
    }
   ],
   "source": [
    "noc[noc['Country'] != noc['Country.1']]"
   ]
  },
  {
   "cell_type": "code",
   "execution_count": 7,
   "metadata": {},
   "outputs": [
    {
     "data": {
      "text/plain": "                                    Country ISO code        Country.1\nInt Olympic Committee code                                           \nAFG                             Afghanistan       AF      Afghanistan\nALB                                 Albania       AL          Albania\nALG                                 Algeria       DZ          Algeria\nASA                         American Samoa*       AS  American Samoa*\nAND                                 Andorra       AD          Andorra",
      "text/html": "<div>\n<style scoped>\n    .dataframe tbody tr th:only-of-type {\n        vertical-align: middle;\n    }\n\n    .dataframe tbody tr th {\n        vertical-align: top;\n    }\n\n    .dataframe thead th {\n        text-align: right;\n    }\n</style>\n<table border=\"1\" class=\"dataframe\">\n  <thead>\n    <tr style=\"text-align: right;\">\n      <th></th>\n      <th>Country</th>\n      <th>ISO code</th>\n      <th>Country.1</th>\n    </tr>\n    <tr>\n      <th>Int Olympic Committee code</th>\n      <th></th>\n      <th></th>\n      <th></th>\n    </tr>\n  </thead>\n  <tbody>\n    <tr>\n      <th>AFG</th>\n      <td>Afghanistan</td>\n      <td>AF</td>\n      <td>Afghanistan</td>\n    </tr>\n    <tr>\n      <th>ALB</th>\n      <td>Albania</td>\n      <td>AL</td>\n      <td>Albania</td>\n    </tr>\n    <tr>\n      <th>ALG</th>\n      <td>Algeria</td>\n      <td>DZ</td>\n      <td>Algeria</td>\n    </tr>\n    <tr>\n      <th>ASA</th>\n      <td>American Samoa*</td>\n      <td>AS</td>\n      <td>American Samoa*</td>\n    </tr>\n    <tr>\n      <th>AND</th>\n      <td>Andorra</td>\n      <td>AD</td>\n      <td>Andorra</td>\n    </tr>\n  </tbody>\n</table>\n</div>"
     },
     "execution_count": 7,
     "metadata": {},
     "output_type": "execute_result"
    }
   ],
   "source": [
    "noc.set_index('Int Olympic Committee code',inplace=True)\n",
    "noc.head()"
   ]
  },
  {
   "cell_type": "code",
   "execution_count": 8,
   "metadata": {},
   "outputs": [
    {
     "data": {
      "text/plain": "USA    315\nCHN    184\nAUS    149\nRUS    143\nGER    101\n      ... \nSUD      1\nEGY      1\nMDA      1\nTOG      1\nMRI      1\nName: NOC, Length: 86, dtype: int64"
     },
     "execution_count": 8,
     "metadata": {},
     "output_type": "execute_result"
    }
   ],
   "source": [
    "medal_2008 = lo.NOC.value_counts()\n",
    "medal_2008"
   ]
  },
  {
   "cell_type": "code",
   "execution_count": 9,
   "metadata": {},
   "outputs": [
    {
     "data": {
      "text/plain": "                                    Country ISO code        Country.1  \\\nInt Olympic Committee code                                              \nAFG                             Afghanistan       AF      Afghanistan   \nALB                                 Albania       AL          Albania   \nALG                                 Algeria       DZ          Algeria   \nASA                         American Samoa*       AS  American Samoa*   \nAND                                 Andorra       AD          Andorra   \n\n                            medal_2008  \nInt Olympic Committee code              \nAFG                                1.0  \nALB                                NaN  \nALG                                2.0  \nASA                                NaN  \nAND                                NaN  ",
      "text/html": "<div>\n<style scoped>\n    .dataframe tbody tr th:only-of-type {\n        vertical-align: middle;\n    }\n\n    .dataframe tbody tr th {\n        vertical-align: top;\n    }\n\n    .dataframe thead th {\n        text-align: right;\n    }\n</style>\n<table border=\"1\" class=\"dataframe\">\n  <thead>\n    <tr style=\"text-align: right;\">\n      <th></th>\n      <th>Country</th>\n      <th>ISO code</th>\n      <th>Country.1</th>\n      <th>medal_2008</th>\n    </tr>\n    <tr>\n      <th>Int Olympic Committee code</th>\n      <th></th>\n      <th></th>\n      <th></th>\n      <th></th>\n    </tr>\n  </thead>\n  <tbody>\n    <tr>\n      <th>AFG</th>\n      <td>Afghanistan</td>\n      <td>AF</td>\n      <td>Afghanistan</td>\n      <td>1.0</td>\n    </tr>\n    <tr>\n      <th>ALB</th>\n      <td>Albania</td>\n      <td>AL</td>\n      <td>Albania</td>\n      <td>NaN</td>\n    </tr>\n    <tr>\n      <th>ALG</th>\n      <td>Algeria</td>\n      <td>DZ</td>\n      <td>Algeria</td>\n      <td>2.0</td>\n    </tr>\n    <tr>\n      <th>ASA</th>\n      <td>American Samoa*</td>\n      <td>AS</td>\n      <td>American Samoa*</td>\n      <td>NaN</td>\n    </tr>\n    <tr>\n      <th>AND</th>\n      <td>Andorra</td>\n      <td>AD</td>\n      <td>Andorra</td>\n      <td>NaN</td>\n    </tr>\n  </tbody>\n</table>\n</div>"
     },
     "execution_count": 9,
     "metadata": {},
     "output_type": "execute_result"
    }
   ],
   "source": [
    "noc['medal_2008'] = medal_2008\n",
    "noc.head()"
   ]
  },
  {
   "cell_type": "code",
   "execution_count": 10,
   "metadata": {},
   "outputs": [
    {
     "data": {
      "text/plain": "                                        Country ISO code            Country.1  \\\nInt Olympic Committee code                                                      \nALB                                     Albania       AL              Albania   \nASA                             American Samoa*       AS      American Samoa*   \nAND                                     Andorra       AD              Andorra   \nANG                                      Angola       AO               Angola   \nANT                         Antigua and Barbuda       AG  Antigua and Barbuda   \n...                                         ...      ...                  ...   \nURU                                     Uruguay       UY              Uruguay   \nVAN                                     Vanuatu       VU              Vanuatu   \nISV                             Virgin Islands*       VI      Virgin Islands*   \nYEM                                       Yemen       YE                Yemen   \nZAM                                      Zambia       ZM               Zambia   \n\n                            medal_2008  \nInt Olympic Committee code              \nALB                                NaN  \nASA                                NaN  \nAND                                NaN  \nANG                                NaN  \nANT                                NaN  \n...                                ...  \nURU                                NaN  \nVAN                                NaN  \nISV                                NaN  \nYEM                                NaN  \nZAM                                NaN  \n\n[117 rows x 4 columns]",
      "text/html": "<div>\n<style scoped>\n    .dataframe tbody tr th:only-of-type {\n        vertical-align: middle;\n    }\n\n    .dataframe tbody tr th {\n        vertical-align: top;\n    }\n\n    .dataframe thead th {\n        text-align: right;\n    }\n</style>\n<table border=\"1\" class=\"dataframe\">\n  <thead>\n    <tr style=\"text-align: right;\">\n      <th></th>\n      <th>Country</th>\n      <th>ISO code</th>\n      <th>Country.1</th>\n      <th>medal_2008</th>\n    </tr>\n    <tr>\n      <th>Int Olympic Committee code</th>\n      <th></th>\n      <th></th>\n      <th></th>\n      <th></th>\n    </tr>\n  </thead>\n  <tbody>\n    <tr>\n      <th>ALB</th>\n      <td>Albania</td>\n      <td>AL</td>\n      <td>Albania</td>\n      <td>NaN</td>\n    </tr>\n    <tr>\n      <th>ASA</th>\n      <td>American Samoa*</td>\n      <td>AS</td>\n      <td>American Samoa*</td>\n      <td>NaN</td>\n    </tr>\n    <tr>\n      <th>AND</th>\n      <td>Andorra</td>\n      <td>AD</td>\n      <td>Andorra</td>\n      <td>NaN</td>\n    </tr>\n    <tr>\n      <th>ANG</th>\n      <td>Angola</td>\n      <td>AO</td>\n      <td>Angola</td>\n      <td>NaN</td>\n    </tr>\n    <tr>\n      <th>ANT</th>\n      <td>Antigua and Barbuda</td>\n      <td>AG</td>\n      <td>Antigua and Barbuda</td>\n      <td>NaN</td>\n    </tr>\n    <tr>\n      <th>...</th>\n      <td>...</td>\n      <td>...</td>\n      <td>...</td>\n      <td>...</td>\n    </tr>\n    <tr>\n      <th>URU</th>\n      <td>Uruguay</td>\n      <td>UY</td>\n      <td>Uruguay</td>\n      <td>NaN</td>\n    </tr>\n    <tr>\n      <th>VAN</th>\n      <td>Vanuatu</td>\n      <td>VU</td>\n      <td>Vanuatu</td>\n      <td>NaN</td>\n    </tr>\n    <tr>\n      <th>ISV</th>\n      <td>Virgin Islands*</td>\n      <td>VI</td>\n      <td>Virgin Islands*</td>\n      <td>NaN</td>\n    </tr>\n    <tr>\n      <th>YEM</th>\n      <td>Yemen</td>\n      <td>YE</td>\n      <td>Yemen</td>\n      <td>NaN</td>\n    </tr>\n    <tr>\n      <th>ZAM</th>\n      <td>Zambia</td>\n      <td>ZM</td>\n      <td>Zambia</td>\n      <td>NaN</td>\n    </tr>\n  </tbody>\n</table>\n<p>117 rows × 4 columns</p>\n</div>"
     },
     "execution_count": 10,
     "metadata": {},
     "output_type": "execute_result"
    }
   ],
   "source": [
    "noc[noc.medal_2008.isnull()]"
   ]
  },
  {
   "cell_type": "code",
   "execution_count": 10,
   "metadata": {
    "collapsed": true
   },
   "outputs": [],
   "source": []
  },
  {
   "cell_type": "code",
   "execution_count": 10,
   "metadata": {
    "collapsed": true
   },
   "outputs": [],
   "source": []
  },
  {
   "cell_type": "code",
   "execution_count": 10,
   "metadata": {
    "collapsed": true
   },
   "outputs": [],
   "source": []
  },
  {
   "cell_type": "code",
   "execution_count": 10,
   "metadata": {
    "collapsed": true
   },
   "outputs": [],
   "source": []
  },
  {
   "cell_type": "code",
   "execution_count": 10,
   "metadata": {
    "collapsed": true
   },
   "outputs": [],
   "source": []
  },
  {
   "cell_type": "code",
   "execution_count": 10,
   "metadata": {
    "collapsed": true
   },
   "outputs": [],
   "source": []
  },
  {
   "cell_type": "code",
   "execution_count": 10,
   "metadata": {
    "collapsed": true
   },
   "outputs": [],
   "source": []
  },
  {
   "cell_type": "code",
   "execution_count": 10,
   "metadata": {
    "collapsed": true
   },
   "outputs": [],
   "source": []
  },
  {
   "cell_type": "code",
   "execution_count": 10,
   "metadata": {
    "collapsed": true
   },
   "outputs": [],
   "source": []
  },
  {
   "cell_type": "code",
   "execution_count": 10,
   "metadata": {
    "collapsed": true
   },
   "outputs": [],
   "source": []
  },
  {
   "cell_type": "code",
   "execution_count": 10,
   "metadata": {
    "collapsed": true
   },
   "outputs": [],
   "source": []
  },
  {
   "cell_type": "code",
   "execution_count": 10,
   "metadata": {
    "collapsed": true
   },
   "outputs": [],
   "source": []
  },
  {
   "cell_type": "code",
   "execution_count": 10,
   "metadata": {
    "collapsed": true
   },
   "outputs": [],
   "source": []
  },
  {
   "cell_type": "code",
   "execution_count": 10,
   "metadata": {
    "collapsed": true
   },
   "outputs": [],
   "source": []
  },
  {
   "cell_type": "code",
   "execution_count": 10,
   "metadata": {
    "collapsed": true
   },
   "outputs": [],
   "source": []
  },
  {
   "cell_type": "code",
   "execution_count": 10,
   "metadata": {
    "collapsed": true
   },
   "outputs": [],
   "source": []
  },
  {
   "cell_type": "code",
   "execution_count": 10,
   "metadata": {
    "collapsed": true
   },
   "outputs": [],
   "source": []
  },
  {
   "cell_type": "code",
   "execution_count": 10,
   "metadata": {
    "collapsed": true
   },
   "outputs": [],
   "source": []
  },
  {
   "cell_type": "code",
   "execution_count": 10,
   "metadata": {
    "collapsed": true
   },
   "outputs": [],
   "source": []
  }
 ],
 "metadata": {
  "kernelspec": {
   "display_name": "Python 3",
   "language": "python",
   "name": "python3"
  },
  "language_info": {
   "codemirror_mode": {
    "name": "ipython",
    "version": 3
   },
   "file_extension": ".py",
   "mimetype": "text/x-python",
   "name": "python",
   "nbconvert_exporter": "python",
   "pygments_lexer": "ipython3",
   "version": "3.6.1"
  }
 },
 "nbformat": 4,
 "nbformat_minor": 1
}
